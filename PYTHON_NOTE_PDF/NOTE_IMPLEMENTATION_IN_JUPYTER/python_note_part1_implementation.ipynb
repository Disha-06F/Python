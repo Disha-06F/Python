{
 "cells": [
  {
   "cell_type": "markdown",
   "id": "519256b3-d938-4f52-9689-c27c315bdfb7",
   "metadata": {},
   "source": [
    "# Python input/output :"
   ]
  },
  {
   "cell_type": "code",
   "execution_count": 1,
   "id": "1ab35862-90f4-46a5-9ec9-83217617d177",
   "metadata": {},
   "outputs": [
    {
     "data": {
      "text/plain": [
       "'Data Science'"
      ]
     },
     "execution_count": 1,
     "metadata": {},
     "output_type": "execute_result"
    }
   ],
   "source": [
    "'Data Science'"
   ]
  },
  {
   "cell_type": "code",
   "execution_count": 2,
   "id": "f74b0e09-7736-4333-914f-8d7e37d3a2ba",
   "metadata": {},
   "outputs": [
    {
     "name": "stdout",
     "output_type": "stream",
     "text": [
      "Hello World Welcome to 60 days of python\n"
     ]
    }
   ],
   "source": [
    "print('Hello World' , 'Welcome to 60 days of python')"
   ]
  },
  {
   "cell_type": "code",
   "execution_count": 4,
   "id": "7772be3e-67a4-4dab-8e48-800b0ca1ec91",
   "metadata": {},
   "outputs": [
    {
     "name": "stdout",
     "output_type": "stream",
     "text": [
      "Hello World & Welcome to 60 days of python."
     ]
    }
   ],
   "source": [
    "print('Hello World' , 'Welcome to 60 days of python', sep=' & ', end='.')"
   ]
  },
  {
   "cell_type": "markdown",
   "id": "cfb598fd-3230-429c-9c0b-9660f7288e02",
   "metadata": {},
   "source": [
    "# python input() built-in function"
   ]
  },
  {
   "cell_type": "code",
   "execution_count": 5,
   "id": "3473865b-8829-4d0c-8f62-36ef7969b789",
   "metadata": {},
   "outputs": [
    {
     "name": "stdout",
     "output_type": "stream",
     "text": [
      "Enter your Name:\n"
     ]
    },
    {
     "name": "stdin",
     "output_type": "stream",
     "text": [
      " H H Joti\n"
     ]
    },
    {
     "name": "stdout",
     "output_type": "stream",
     "text": [
      "Hello, H H Joti\n"
     ]
    }
   ],
   "source": [
    "print('Enter your Name:')\n",
    "x=input()\n",
    "print('Hello, ' +x)"
   ]
  },
  {
   "cell_type": "code",
   "execution_count": 7,
   "id": "cc038982-22fa-46c1-9435-f3c71e9d85a5",
   "metadata": {},
   "outputs": [
    {
     "name": "stdin",
     "output_type": "stream",
     "text": [
      "Enter your Name: Arisha Binte Hossain\n"
     ]
    },
    {
     "name": "stdout",
     "output_type": "stream",
     "text": [
      "Hello, Arisha Binte Hossain\n"
     ]
    }
   ],
   "source": [
    "x=input('Enter your Name:')\n",
    "print('Hello, ' +x)"
   ]
  },
  {
   "cell_type": "markdown",
   "id": "691779ad-f8db-46f3-b802-1cb85a934f35",
   "metadata": {},
   "source": [
    "# Variables"
   ]
  },
  {
   "cell_type": "code",
   "execution_count": 8,
   "id": "d28dcae4-baaa-40fb-b46e-92602ca4340d",
   "metadata": {},
   "outputs": [
    {
     "name": "stdout",
     "output_type": "stream",
     "text": [
      "Hello world\n"
     ]
    }
   ],
   "source": [
    "var ='Hello world'\n",
    "print(var)"
   ]
  },
  {
   "cell_type": "code",
   "execution_count": 9,
   "id": "4b83988f-3614-48f4-8b0e-bf53fcc523ab",
   "metadata": {},
   "outputs": [
    {
     "name": "stdout",
     "output_type": "stream",
     "text": [
      "my sentence is Hello world\n"
     ]
    }
   ],
   "source": [
    "print('my sentence is ' +var)"
   ]
  },
  {
   "cell_type": "code",
   "execution_count": 10,
   "id": "62cceabb-248d-4db1-8519-cb9b17e94654",
   "metadata": {},
   "outputs": [
    {
     "name": "stdout",
     "output_type": "stream",
     "text": [
      "5\n",
      "john\n"
     ]
    }
   ],
   "source": [
    "x=5\n",
    "y=\"john\"\n",
    "print(x)\n",
    "print(y)"
   ]
  },
  {
   "cell_type": "code",
   "execution_count": 11,
   "id": "4cee880b-f030-4028-825c-85269febc31d",
   "metadata": {},
   "outputs": [
    {
     "name": "stdout",
     "output_type": "stream",
     "text": [
      "sallay\n"
     ]
    }
   ],
   "source": [
    "x=4\n",
    "x=\"sallay\"\n",
    "print(x)"
   ]
  },
  {
   "cell_type": "markdown",
   "id": "dbba0e9a-d753-4de3-903d-d462fc2b6b98",
   "metadata": {},
   "source": [
    "# Type casting"
   ]
  },
  {
   "cell_type": "code",
   "execution_count": 12,
   "id": "a373ba96-3673-4725-8be1-70248cc83b2b",
   "metadata": {},
   "outputs": [
    {
     "name": "stdout",
     "output_type": "stream",
     "text": [
      "3\n",
      "3\n",
      "3.0\n"
     ]
    }
   ],
   "source": [
    "x=str(3)\n",
    "y=int(3)\n",
    "z=float(3)\n",
    "print(x)\n",
    "print(y)\n",
    "print(z)"
   ]
  },
  {
   "cell_type": "markdown",
   "id": "1fdefdaa-a53f-42b4-827a-27f4b652f31d",
   "metadata": {},
   "source": [
    "### finding the type of the variable"
   ]
  },
  {
   "cell_type": "code",
   "execution_count": 13,
   "id": "5ad51e25-fdc2-431b-a6e0-fd8ad3d29950",
   "metadata": {},
   "outputs": [
    {
     "name": "stdout",
     "output_type": "stream",
     "text": [
      "<class 'int'>\n",
      "<class 'str'>\n"
     ]
    }
   ],
   "source": [
    "x=5\n",
    "y=\"John\"\n",
    "print(type(x))\n",
    "print(type(y))"
   ]
  },
  {
   "cell_type": "markdown",
   "id": "2554cf34-196b-40ef-b72b-796f79effc81",
   "metadata": {},
   "source": [
    "# python id() function"
   ]
  },
  {
   "cell_type": "code",
   "execution_count": 15,
   "id": "4990125b-9a3b-4562-a864-2fbd1a996cc4",
   "metadata": {},
   "outputs": [
    {
     "data": {
      "text/plain": [
       "2046376118192"
      ]
     },
     "execution_count": 15,
     "metadata": {},
     "output_type": "execute_result"
    }
   ],
   "source": [
    "id(var)"
   ]
  },
  {
   "cell_type": "code",
   "execution_count": 16,
   "id": "b76de918-25ff-432e-bb22-b2038b10f18e",
   "metadata": {},
   "outputs": [
    {
     "data": {
      "text/plain": [
       "140705146612280"
      ]
     },
     "execution_count": 16,
     "metadata": {},
     "output_type": "execute_result"
    }
   ],
   "source": [
    "id(x)"
   ]
  },
  {
   "cell_type": "code",
   "execution_count": 19,
   "id": "815f08f0-f459-4b50-aa77-be29e6dc0520",
   "metadata": {},
   "outputs": [],
   "source": [
    "import sys"
   ]
  },
  {
   "cell_type": "code",
   "execution_count": 20,
   "id": "f2bdeb5f-11a1-4c94-b0a8-f4f9a0975dae",
   "metadata": {},
   "outputs": [
    {
     "data": {
      "text/plain": [
       "52"
      ]
     },
     "execution_count": 20,
     "metadata": {},
     "output_type": "execute_result"
    }
   ],
   "source": [
    "sys.getsizeof(var)"
   ]
  },
  {
   "cell_type": "code",
   "execution_count": 21,
   "id": "99ef2a13-2ead-4933-920c-29291749c862",
   "metadata": {},
   "outputs": [],
   "source": [
    "x,y,z=10,20,30"
   ]
  },
  {
   "cell_type": "code",
   "execution_count": 22,
   "id": "abd87517-28f4-408a-b9f5-12840b5203ce",
   "metadata": {},
   "outputs": [
    {
     "data": {
      "text/plain": [
       "10"
      ]
     },
     "execution_count": 22,
     "metadata": {},
     "output_type": "execute_result"
    }
   ],
   "source": [
    "x"
   ]
  },
  {
   "cell_type": "code",
   "execution_count": 23,
   "id": "55d21b3c-ca3f-4365-b555-509f864bcc35",
   "metadata": {},
   "outputs": [
    {
     "data": {
      "text/plain": [
       "30"
      ]
     },
     "execution_count": 23,
     "metadata": {},
     "output_type": "execute_result"
    }
   ],
   "source": [
    "z"
   ]
  },
  {
   "cell_type": "markdown",
   "id": "aec9325e-604b-44e2-b01d-4fce0720907e",
   "metadata": {},
   "source": [
    "# multi-word variable name"
   ]
  },
  {
   "cell_type": "markdown",
   "id": "180edbca-f178-4239-b4a7-d3459e6d6184",
   "metadata": {},
   "source": [
    "### CamelCase(First word is lowercase, subsequent words are capitalized.)"
   ]
  },
  {
   "cell_type": "code",
   "execution_count": 26,
   "id": "98b0c3af-0a7e-425e-a99f-d09762224c4f",
   "metadata": {},
   "outputs": [],
   "source": [
    "myVariableName=5"
   ]
  },
  {
   "cell_type": "markdown",
   "id": "6a7454f5-261d-4cd6-9752-8d8d7637d9e2",
   "metadata": {},
   "source": [
    "### PascalCase(Every word starts with a capital letter, no spaces.)"
   ]
  },
  {
   "cell_type": "code",
   "execution_count": 28,
   "id": "f3c48945-5018-4096-8580-ab048ad4c183",
   "metadata": {},
   "outputs": [],
   "source": [
    "MyVariableName=5"
   ]
  },
  {
   "cell_type": "markdown",
   "id": "bc18a8ff-9f18-4f00-8094-e7dd2ec06d86",
   "metadata": {},
   "source": [
    "### Snake_Case(Words are separated by underscores, all lowercase.)"
   ]
  },
  {
   "cell_type": "code",
   "execution_count": 30,
   "id": "f69dd117-5904-4530-a871-16a19092beeb",
   "metadata": {},
   "outputs": [],
   "source": [
    "my_variable_name=5"
   ]
  },
  {
   "cell_type": "markdown",
   "id": "5b93a17c-52db-4a9f-a797-c349547ca6dd",
   "metadata": {},
   "source": [
    "# Local Variables"
   ]
  },
  {
   "cell_type": "code",
   "execution_count": 33,
   "id": "1a6fe402-f701-45a1-9e3e-a280cd131d50",
   "metadata": {},
   "outputs": [
    {
     "name": "stdout",
     "output_type": "stream",
     "text": [
      "I love Geeksforgeeks\n"
     ]
    }
   ],
   "source": [
    "def f():\n",
    "    s=\"I love Geeksforgeeks\" #local variable\n",
    "    print(s)\n",
    "    \n",
    "f()    "
   ]
  },
  {
   "cell_type": "code",
   "execution_count": 34,
   "id": "441efcb5-2e5d-470c-9c68-7f59db096916",
   "metadata": {},
   "outputs": [
    {
     "name": "stdout",
     "output_type": "stream",
     "text": [
      "Inside Function: I love GeeksforGeeks\n"
     ]
    },
    {
     "ename": "NameError",
     "evalue": "name 's' is not defined",
     "output_type": "error",
     "traceback": [
      "\u001b[1;31m---------------------------------------------------------------------------\u001b[0m",
      "\u001b[1;31mNameError\u001b[0m                                 Traceback (most recent call last)",
      "Cell \u001b[1;32mIn[34], line 5\u001b[0m\n\u001b[0;32m      3\u001b[0m     \u001b[38;5;28mprint\u001b[39m(\u001b[38;5;124m\"\u001b[39m\u001b[38;5;124mInside Function:\u001b[39m\u001b[38;5;124m\"\u001b[39m,s)\n\u001b[0;32m      4\u001b[0m f()\n\u001b[1;32m----> 5\u001b[0m \u001b[38;5;28mprint\u001b[39m(s)\n",
      "\u001b[1;31mNameError\u001b[0m: name 's' is not defined"
     ]
    }
   ],
   "source": [
    "def f():\n",
    "    s=\"I love GeeksforGeeks\"\n",
    "    print(\"Inside Function:\",s) #local variable\n",
    "f()\n",
    "print(s) #outside the function(try to access local variable)"
   ]
  },
  {
   "cell_type": "code",
   "execution_count": 35,
   "id": "4b3fda01-79fc-41b9-8f53-fed8dc880cab",
   "metadata": {},
   "outputs": [
    {
     "name": "stdout",
     "output_type": "stream",
     "text": [
      "My name is:  500\n"
     ]
    }
   ],
   "source": [
    "def func1():\n",
    "    x=500 #local\n",
    "    print(\"My name is: \",x)\n",
    "func1()    "
   ]
  },
  {
   "cell_type": "code",
   "execution_count": 40,
   "id": "94b874c7-7a43-43a8-ab34-1a6c1208b39a",
   "metadata": {},
   "outputs": [
    {
     "name": "stdout",
     "output_type": "stream",
     "text": [
      "The number is: 300\n",
      "outside the function: 1000\n"
     ]
    }
   ],
   "source": [
    "x = 1000 #global variable\n",
    "def func2():\n",
    "    x=300\n",
    "    print(\"The number is:\",x)\n",
    "func2()\n",
    "print(\"outside the function:\",x)"
   ]
  },
  {
   "cell_type": "markdown",
   "id": "4888f2b0-a324-4c6d-9e02-7d9ff02070bc",
   "metadata": {},
   "source": [
    "# global Variables"
   ]
  },
  {
   "cell_type": "code",
   "execution_count": 39,
   "id": "23633110-4c1c-4721-bb7e-cf6900db5e5a",
   "metadata": {},
   "outputs": [
    {
     "name": "stdout",
     "output_type": "stream",
     "text": [
      "Me too\n",
      "I love Myself\n"
     ]
    }
   ],
   "source": [
    "def function():\n",
    "    p=\"Me too\"\n",
    "    print(p)\n",
    "p=\"I love Myself\"\n",
    "function()\n",
    "print(p)\n",
    "    "
   ]
  },
  {
   "cell_type": "code",
   "execution_count": null,
   "id": "738499ee-540e-416d-a55b-8e06f678a227",
   "metadata": {},
   "outputs": [],
   "source": []
  }
 ],
 "metadata": {
  "kernelspec": {
   "display_name": "Python 3 (ipykernel)",
   "language": "python",
   "name": "python3"
  },
  "language_info": {
   "codemirror_mode": {
    "name": "ipython",
    "version": 3
   },
   "file_extension": ".py",
   "mimetype": "text/x-python",
   "name": "python",
   "nbconvert_exporter": "python",
   "pygments_lexer": "ipython3",
   "version": "3.12.7"
  }
 },
 "nbformat": 4,
 "nbformat_minor": 5
}
