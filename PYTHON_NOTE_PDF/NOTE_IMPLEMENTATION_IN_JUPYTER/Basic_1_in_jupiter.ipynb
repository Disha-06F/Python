{
 "cells": [
  {
   "cell_type": "markdown",
   "id": "8125cf97-2430-4b4e-aaea-52d9c4bc1bd9",
   "metadata": {},
   "source": [
    "# learning Python - First "
   ]
  },
  {
   "cell_type": "code",
   "execution_count": 4,
   "id": "4bba99f7-c426-44ec-8fa1-24824d13660e",
   "metadata": {},
   "outputs": [
    {
     "name": "stdout",
     "output_type": "stream",
     "text": [
      "Hello I am a new Learner\n"
     ]
    }
   ],
   "source": [
    "print(\"Hello I am a new Learner\")"
   ]
  },
  {
   "cell_type": "markdown",
   "id": "a5c382c6-d689-45cc-bec4-52f456d375fb",
   "metadata": {},
   "source": [
    "# Variables"
   ]
  },
  {
   "cell_type": "code",
   "execution_count": 1,
   "id": "264a459c-eeb3-4baf-ad44-7d0b1a215681",
   "metadata": {},
   "outputs": [
    {
     "name": "stdout",
     "output_type": "stream",
     "text": [
      "22\n"
     ]
    }
   ],
   "source": [
    "a =10\n",
    "b =12\n",
    "c=a+b\n",
    "print(c)"
   ]
  },
  {
   "cell_type": "code",
   "execution_count": 6,
   "id": "cab78b98-e495-4cf8-9541-cb605ac6e72b",
   "metadata": {},
   "outputs": [
    {
     "name": "stdout",
     "output_type": "stream",
     "text": [
      "H H Joti\n",
      " vill: x, post:y, dist:z\n"
     ]
    }
   ],
   "source": [
    "name=\"H H Joti\\n\"\n",
    "Address=\"vill: x, post:y, dist:z\"\n",
    "print(name,Address)"
   ]
  },
  {
   "cell_type": "markdown",
   "id": "3da87863-61b4-4992-be67-5960035cab94",
   "metadata": {},
   "source": [
    "# Datatypes"
   ]
  },
  {
   "cell_type": "code",
   "execution_count": 7,
   "id": "981af127-3e6b-48cb-9643-09a4ee52753f",
   "metadata": {},
   "outputs": [
    {
     "name": "stdin",
     "output_type": "stream",
     "text": [
      "Enter a number: 5\n"
     ]
    },
    {
     "ename": "TypeError",
     "evalue": "unsupported operand type(s) for +: 'int' and 'str'",
     "output_type": "error",
     "traceback": [
      "\u001b[1;31m---------------------------------------------------------------------------\u001b[0m",
      "\u001b[1;31mTypeError\u001b[0m                                 Traceback (most recent call last)",
      "Cell \u001b[1;32mIn[7], line 4\u001b[0m\n\u001b[0;32m      2\u001b[0m firstNum \u001b[38;5;241m=\u001b[39m \u001b[38;5;241m10\u001b[39m\n\u001b[0;32m      3\u001b[0m secondNum \u001b[38;5;241m=\u001b[39m \u001b[38;5;28minput\u001b[39m(\u001b[38;5;124m\"\u001b[39m\u001b[38;5;124mEnter a number:\u001b[39m\u001b[38;5;124m\"\u001b[39m)\n\u001b[1;32m----> 4\u001b[0m \u001b[38;5;28mprint\u001b[39m(\u001b[38;5;124m\"\u001b[39m\u001b[38;5;124msum:\u001b[39m\u001b[38;5;124m\"\u001b[39m, firstNum \u001b[38;5;241m+\u001b[39m secondNum)\n",
      "\u001b[1;31mTypeError\u001b[0m: unsupported operand type(s) for +: 'int' and 'str'"
     ]
    }
   ],
   "source": [
    "#take input from keyboard\n",
    "firstNum = 10\n",
    "secondNum = input(\"Enter a number:\")\n",
    "print(\"sum:\", firstNum + secondNum)"
   ]
  },
  {
   "cell_type": "code",
   "execution_count": 8,
   "id": "60042ea9-be9c-4563-8308-9a40b6869f87",
   "metadata": {},
   "outputs": [
    {
     "name": "stdin",
     "output_type": "stream",
     "text": [
      "Enter a number: 6\n"
     ]
    },
    {
     "name": "stdout",
     "output_type": "stream",
     "text": [
      "sum: 16\n"
     ]
    }
   ],
   "source": [
    "#take input from keyboard\n",
    "firstNum = 10\n",
    "secondNum = input(\"Enter a number:\")\n",
    "print(\"sum:\", firstNum + int(secondNum))"
   ]
  },
  {
   "cell_type": "markdown",
   "id": "dc4ae512-3305-4a8c-8760-3d546c3c2b3f",
   "metadata": {},
   "source": [
    "# operators\n",
    "### arithmetic : +,-,/,*\n",
    "### comparator: <, >, <=, >=\n",
    "### logical: and, or, not\n"
   ]
  },
  {
   "cell_type": "code",
   "execution_count": 11,
   "id": "aa4d9637-e4b3-492a-9d95-36932585ce07",
   "metadata": {},
   "outputs": [
    {
     "name": "stdin",
     "output_type": "stream",
     "text": [
      "Enter a number: 5\n"
     ]
    },
    {
     "name": "stdout",
     "output_type": "stream",
     "text": [
      "sum: 50\n"
     ]
    }
   ],
   "source": [
    "#arithmetic operator\n",
    "#take input from keyboard\n",
    "firstNum = 10\n",
    "secondNum = input(\"Enter a number:\")\n",
    "print(\"sum:\", firstNum * int(secondNum))"
   ]
  },
  {
   "cell_type": "code",
   "execution_count": 13,
   "id": "4c6b5e26-4c9f-4f31-bc97-8dabdbed0b96",
   "metadata": {},
   "outputs": [
    {
     "name": "stdin",
     "output_type": "stream",
     "text": [
      "Enter your age:  89\n"
     ]
    },
    {
     "name": "stdout",
     "output_type": "stream",
     "text": [
      "Senior\n"
     ]
    }
   ],
   "source": [
    "#conditional statement\n",
    "age = input (\"Enter your age: \")\n",
    "if int(age)>=30:\n",
    "    print(\"Senior\")\n",
    "else:\n",
    "    print(\"Junior\")"
   ]
  },
  {
   "cell_type": "markdown",
   "id": "fd588db5-189c-45f2-84f3-39978ded4d06",
   "metadata": {},
   "source": [
    "# Loop"
   ]
  },
  {
   "cell_type": "markdown",
   "id": "b05e2038-e0da-4fea-9b8b-6a59714224b7",
   "metadata": {},
   "source": [
    "### For loop"
   ]
  },
  {
   "cell_type": "code",
   "execution_count": 14,
   "id": "77bca344-5d8a-42ef-9655-a0d0af5f9fc9",
   "metadata": {},
   "outputs": [
    {
     "name": "stdout",
     "output_type": "stream",
     "text": [
      "0\n",
      "1\n",
      "2\n",
      "3\n",
      "4\n"
     ]
    }
   ],
   "source": [
    "#loop\n",
    "for i in range(5):\n",
    "    print(i)"
   ]
  },
  {
   "cell_type": "code",
   "execution_count": 17,
   "id": "5d95f3bc-40c5-4c14-bb2d-67942aaea44d",
   "metadata": {},
   "outputs": [
    {
     "name": "stdout",
     "output_type": "stream",
     "text": [
      "1\n",
      "2\n",
      "3\n",
      "4\n",
      "5\n"
     ]
    }
   ],
   "source": [
    "for i in range(1,6):\n",
    "    print(i)"
   ]
  },
  {
   "cell_type": "code",
   "execution_count": 18,
   "id": "937cf648-a65b-4d06-b5f6-da8f132c2f1b",
   "metadata": {},
   "outputs": [
    {
     "name": "stdout",
     "output_type": "stream",
     "text": [
      "1\n",
      "3\n",
      "5\n"
     ]
    }
   ],
   "source": [
    "for i in range(1,6,2):\n",
    "    print(i)"
   ]
  },
  {
   "cell_type": "code",
   "execution_count": 19,
   "id": "c2d7f5f3-1f6e-435b-83eb-059f9f2a80e4",
   "metadata": {},
   "outputs": [
    {
     "name": "stdout",
     "output_type": "stream",
     "text": [
      "0\n",
      "2\n",
      "4\n",
      "6\n",
      "8\n",
      "10\n",
      "12\n",
      "14\n",
      "16\n",
      "18\n"
     ]
    }
   ],
   "source": [
    "for i in range(0,20,2):\n",
    "    print(i)"
   ]
  },
  {
   "cell_type": "code",
   "execution_count": 20,
   "id": "e5b7540d-efba-4bd1-a2fd-733695620735",
   "metadata": {
    "jupyter": {
     "source_hidden": true
    }
   },
   "outputs": [
    {
     "name": "stdout",
     "output_type": "stream",
     "text": [
      "5050\n"
     ]
    }
   ],
   "source": [
    "# 1+2+3+4+5+.....+100=?\n",
    "sum=0\n",
    "for i in range(1,101):\n",
    "    sum=sum+i\n",
    "print(sum)    "
   ]
  },
  {
   "cell_type": "code",
   "execution_count": 21,
   "id": "34374b74-3840-4fb0-8870-c0dd9026e300",
   "metadata": {},
   "outputs": [
    {
     "name": "stdout",
     "output_type": "stream",
     "text": [
      "2500\n"
     ]
    }
   ],
   "source": [
    "#1+3+5+....+100=?\n",
    "sum=0\n",
    "for i in range(1,101,2):\n",
    "    sum=sum+i\n",
    "print(sum)    "
   ]
  },
  {
   "cell_type": "code",
   "execution_count": 24,
   "id": "eaa7ffef-0ce5-47a4-9aa3-7b80cac248ae",
   "metadata": {},
   "outputs": [
    {
     "name": "stdout",
     "output_type": "stream",
     "text": [
      "2500\n"
     ]
    }
   ],
   "source": [
    "#1+3+5+....+100=?\n",
    "sum=0\n",
    "for i in range(1,101):\n",
    "    if(i%2!=0):\n",
    "       sum=sum+i\n",
    "print(sum) "
   ]
  },
  {
   "cell_type": "code",
   "execution_count": 25,
   "id": "16d59995-ac2e-41de-9444-1a6aaf5f1b2c",
   "metadata": {},
   "outputs": [
    {
     "name": "stdout",
     "output_type": "stream",
     "text": [
      "2500\n"
     ]
    }
   ],
   "source": [
    "#1+3+5+....+100=?\n",
    "sum=0\n",
    "for i in range(1,101):\n",
    "    if(i%2==0):\n",
    "        continue\n",
    "    else:   \n",
    "       sum=sum+i\n",
    "print(sum)"
   ]
  },
  {
   "cell_type": "markdown",
   "id": "6a826a43-4ad9-41f5-b212-9e48feb1db77",
   "metadata": {},
   "source": [
    "### while Loop"
   ]
  },
  {
   "cell_type": "code",
   "execution_count": 28,
   "id": "1460c1a3-bd42-4f16-af11-9193d49754aa",
   "metadata": {},
   "outputs": [
    {
     "name": "stdout",
     "output_type": "stream",
     "text": [
      "5050\n"
     ]
    }
   ],
   "source": [
    "i=1\n",
    "sum=0\n",
    "while i<101:\n",
    "    sum=sum+i\n",
    "    i=i+1\n",
    "print(sum)    \n",
    "    \n",
    "    "
   ]
  },
  {
   "cell_type": "code",
   "execution_count": 29,
   "id": "854c9c64-4d34-43a8-abb4-0d698346811b",
   "metadata": {},
   "outputs": [
    {
     "name": "stdout",
     "output_type": "stream",
     "text": [
      "2500\n"
     ]
    }
   ],
   "source": [
    "i=1\n",
    "sum=0\n",
    "while i<101:\n",
    "    sum=sum+i\n",
    "    i=i+2\n",
    "print(sum) "
   ]
  },
  {
   "cell_type": "code",
   "execution_count": 30,
   "id": "f0332fe8-e78b-4dff-9be7-9a234351510e",
   "metadata": {},
   "outputs": [
    {
     "name": "stdout",
     "output_type": "stream",
     "text": [
      "mango\n",
      "banana\n",
      "jack\n"
     ]
    }
   ],
   "source": [
    "fruits =[\"mango\",\"banana\",\"jack\"]\n",
    "for fruits in fruits:\n",
    "    print(fruits)"
   ]
  },
  {
   "cell_type": "markdown",
   "id": "e6a5c5ea-978e-4cb1-9742-9ccbb4503673",
   "metadata": {},
   "source": [
    "# function or method"
   ]
  },
  {
   "cell_type": "code",
   "execution_count": 32,
   "id": "928a12a7-8a8d-4fa5-91d6-8d99a9d847a1",
   "metadata": {},
   "outputs": [
    {
     "name": "stdout",
     "output_type": "stream",
     "text": [
      "425\n",
      "3345\n"
     ]
    }
   ],
   "source": [
    "def addtwoNum(a,b):\n",
    "    return a+b\n",
    "def subTwoNum(a,b):\n",
    "    return a-b\n",
    "\n",
    "result = subTwoNum(1000,575)\n",
    "print(result)\n",
    "result2=addtwoNum(3000,345)\n",
    "print(result2)"
   ]
  },
  {
   "cell_type": "code",
   "execution_count": null,
   "id": "02358194-98f7-443b-a4e4-0ecd0c2e7989",
   "metadata": {},
   "outputs": [],
   "source": []
  }
 ],
 "metadata": {
  "kernelspec": {
   "display_name": "Python 3 (ipykernel)",
   "language": "python",
   "name": "python3"
  },
  "language_info": {
   "codemirror_mode": {
    "name": "ipython",
    "version": 3
   },
   "file_extension": ".py",
   "mimetype": "text/x-python",
   "name": "python",
   "nbconvert_exporter": "python",
   "pygments_lexer": "ipython3",
   "version": "3.12.7"
  }
 },
 "nbformat": 4,
 "nbformat_minor": 5
}
